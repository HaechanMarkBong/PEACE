{
  "cells": [
    {
      "cell_type": "code",
      "execution_count": null,
      "id": "62a751c4",
      "metadata": {
        "id": "62a751c4"
      },
      "outputs": [],
      "source": [
        "import os\n",
        "import math\n",
        "import json\n",
        "\n",
        "from glob import glob\n",
        "\n",
        "from IPython.display import HTML\n",
        "\n",
        "import numpy as np\n",
        "import matplotlib.pyplot as plt\n",
        "import matplotlib.patches as patches\n",
        "import matplotlib.animation as animation\n",
        "\n",
        "\n",
        "from PIL import Image"
      ]
    },
    {
      "cell_type": "code",
      "execution_count": null,
      "id": "7665e40b",
      "metadata": {
        "id": "7665e40b"
      },
      "outputs": [],
      "source": [
        "!pip install git+https://github.com/ricardodeazambuja/AerialViewGenerator\n",
        "from aerialviewgenerator.aerialview import AerialView\n",
        "baseurl = 'https://wxs.ign.fr/choisirgeoportail/geoportail/wmts?REQUEST=GetTile&SERVICE=WMTS&VERSION=1.0.0&STYLE=normal&TILEMATRIXSET=PM&FORMAT=image/jpeg&LAYER=ORTHOIMAGERY.ORTHOPHOTOS&TILEMATRIX={z}&TILEROW={y}&TILECOL={x}'\n",
        "FOV = 73.0\n",
        "avg = AerialView(zoom=20, baseurl=baseurl)"
      ]
    },
    {
      "cell_type": "code",
      "execution_count": null,
      "id": "002eb802",
      "metadata": {
        "id": "002eb802"
      },
      "outputs": [],
      "source": [
        "# altitude that landing is considered successful\n",
        "# because we could finish landing from here using traditional depth sensing based landing\n",
        "landed_altitude = 20"
      ]
    },
    {
      "cell_type": "code",
      "execution_count": null,
      "id": "ca53e6b5",
      "metadata": {
        "id": "ca53e6b5"
      },
      "outputs": [],
      "source": [
        "s = 2\n",
        "r = 0\n",
        "rl = [0]\n",
        "el = []\n",
        "for i in range(100):\n",
        "    r = r + (s - r)*0.1\n",
        "    rl.append(r)\n",
        "    el.append(s-s*np.exp(-i*0.1))"
      ]
    },
    {
      "cell_type": "code",
      "execution_count": null,
      "id": "7561cfa8",
      "metadata": {
        "id": "7561cfa8"
      },
      "outputs": [],
      "source": [
        "plt.plot(rl)\n",
        "plt.plot(el)"
      ]
    },
    {
      "cell_type": "markdown",
      "id": "0c8cfec0",
      "metadata": {
        "id": "0c8cfec0"
      },
      "source": [
        "## Inspecting the results from DEFAULT"
      ]
    },
    {
      "cell_type": "code",
      "execution_count": null,
      "id": "35d1c2cb",
      "metadata": {
        "scrolled": false,
        "id": "35d1c2cb"
      },
      "outputs": [],
      "source": [
        "# (sub)folder where the experiments were saved\n",
        "main_folder = \"DEFAULT\"\n",
        "\n",
        "experiment_folders = sorted(glob(main_folder + '/*/'))\n",
        "results_default = {}\n",
        "for folder in experiment_folders:\n",
        "    experiment_name = folder.split('/')[1]\n",
        "    main_filename = folder + experiment_name\n",
        "    with open(main_filename + \".json\", \"r\") as file:\n",
        "        experiment_dict = json.load(file)\n",
        "    with open(main_filename + \".txt\", \"r\") as file:\n",
        "        init_lat, init_lon = [float(v.split('=')[1]) for v in file.readline().split(',')]\n",
        "    elapsed_times = list(experiment_dict.keys())\n",
        "\n",
        "    positions = []\n",
        "    success = False\n",
        "    for ti in elapsed_times[1:]:\n",
        "        positions.append(experiment_dict[ti]['position'][:2])\n",
        "        if experiment_dict[ti]['position'][2] <= landed_altitude:\n",
        "            success = True\n",
        "            break\n",
        "    positions = np.asarray(positions)\n",
        "    diffPos = experiment_dict[ti]['position']\n",
        "    bearing = math.degrees(math.atan2(-diffPos[1],diffPos[0]))+90\n",
        "    distance = np.linalg.norm(diffPos[:2]) # relative distance\n",
        "    final_lat, final_lon = avg.getPointAtDistance(init_lat, init_lon, distance, bearing)\n",
        "    img = np.asarray(avg.getAerialImage(final_lat, final_lon, 0, diffPos[2], FOV, (324,324)))\n",
        "    img100 = np.asarray(avg.getAerialImage(final_lat, final_lon, 0, 100, FOV, (324,324)))\n",
        "    imginit = np.asarray(avg.getAerialImage(init_lat, init_lon, 0, 300, FOV, (324,324)))\n",
        "    imginit100 = np.asarray(avg.getAerialImage(init_lat, init_lon, 0, 100, FOV, (324,324)))\n",
        "    square_size = avg.squareAtCamera(300,FOV)\n",
        "    square_size100 = avg.squareAtCamera(100,FOV)\n",
        "    init_view_size = 324*square_size100/square_size\n",
        "    pixel_per_meter = 324/square_size\n",
        "    positions_pixel = positions*pixel_per_meter\n",
        "    positions_pixel[:,0] += 324/2\n",
        "    positions_pixel[:,1] = 324/2 - positions_pixel[:,1]\n",
        "    fig, axs = plt.subplots(1,4, figsize=(15,10))\n",
        "    fig.suptitle(f'{experiment_name}\\nStart:{(init_lat, init_lon)}\\nEnd:{(final_lat, final_lon)}', fontsize=16, y=0.8)\n",
        "    axs[0].imshow(img)\n",
        "    axs[0].set_title(f'Altitude {diffPos[2]:.1f}m')\n",
        "    axs[0].axis('off')\n",
        "    axs[1].imshow(img100)\n",
        "    axs[1].set_title(f'Final position (alt. 100.0m)')\n",
        "    axs[1].axis('off')\n",
        "    axs[2].imshow(imginit)\n",
        "    axs[2].plot([324/2],[324/2],marker='.',markersize=20,color='red')\n",
        "    axs[2].plot(positions_pixel[:,0],positions_pixel[:,1],marker='.',markersize=3,color='red')\n",
        "    axs[2].plot(positions_pixel[-1,0],positions_pixel[-1,1],marker='*',markersize=20,color='blue')\n",
        "    rect = patches.Rectangle((324/2-init_view_size/2, 324/2-init_view_size/2),\n",
        "                             init_view_size, init_view_size,\n",
        "                             linewidth=2.5, linestyle='--', edgecolor='y', facecolor='none')\n",
        "    axs[2].add_patch(rect)\n",
        "    axs[2].set_title(f'Trajectory (alt. 300.0m, square size {square_size:.2f}m)')\n",
        "    axs[2].axis('off')\n",
        "    axs[3].imshow(imginit100)\n",
        "    axs[3].plot([324/2],[324/2],marker='.',markersize=20,color='red')\n",
        "    axs[3].set_title(f'Initial view (alt. 100.0m)')\n",
        "    axs[3].axis('off')\n",
        "    plt.tight_layout()\n",
        "    plt.show()\n",
        "    if success:\n",
        "        keep_it = input(\"Is it any good? (y/n): \")\n",
        "        if \"y\" in keep_it:\n",
        "            results_default[experiment_name] = [experiment_dict,\n",
        "                                                 (init_lat, init_lon),\n",
        "                                                 (final_lat, final_lon)]"
      ]
    },
    {
      "cell_type": "code",
      "execution_count": null,
      "id": "f5392e1b",
      "metadata": {
        "id": "f5392e1b"
      },
      "outputs": [],
      "source": [
        "with open(\"results_default.json\", \"w\") as file:\n",
        "    json.dump(results_default, file)"
      ]
    },
    {
      "cell_type": "code",
      "execution_count": null,
      "id": "2ca10a79",
      "metadata": {
        "id": "2ca10a79"
      },
      "outputs": [],
      "source": [
        "len(results_default)"
      ]
    },
    {
      "cell_type": "markdown",
      "id": "c45b67b9",
      "metadata": {
        "id": "c45b67b9"
      },
      "source": [
        "## Inspecting the results from PEACE"
      ]
    },
    {
      "cell_type": "code",
      "execution_count": null,
      "id": "def6f44d",
      "metadata": {
        "scrolled": true,
        "id": "def6f44d"
      },
      "outputs": [],
      "source": [
        "# (sub)folder where the experiments were saved\n",
        "main_folder = \"PEACE\"\n",
        "\n",
        "experiment_folders = sorted(glob(main_folder + '/*/'))\n",
        "results_peace = {}\n",
        "for folder in experiment_folders:\n",
        "    experiment_name = folder.split('/')[1]\n",
        "    main_filename = folder + experiment_name\n",
        "    with open(main_filename + \".json\", \"r\") as file:\n",
        "        experiment_dict = json.load(file)\n",
        "    with open(main_filename + \".txt\", \"r\") as file:\n",
        "        init_lat, init_lon = [float(v.split('=')[1]) for v in file.readline().split(',')]\n",
        "    elapsed_times = list(experiment_dict.keys())\n",
        "\n",
        "    positions = []\n",
        "    success = False\n",
        "    for ti in elapsed_times[1:]:\n",
        "        positions.append(experiment_dict[ti]['position'][:2])\n",
        "        if experiment_dict[ti]['position'][2] <= landed_altitude:\n",
        "            success = True\n",
        "            break\n",
        "    positions = np.asarray(positions)\n",
        "    diffPos = experiment_dict[ti]['position']\n",
        "    bearing = math.degrees(math.atan2(-diffPos[1],diffPos[0]))+90\n",
        "    distance = np.linalg.norm(diffPos[:2]) # relative distance\n",
        "    final_lat, final_lon = avg.getPointAtDistance(init_lat, init_lon, distance, bearing)\n",
        "    img = np.asarray(avg.getAerialImage(final_lat, final_lon, 0, diffPos[2], FOV, (324,324)))\n",
        "    img100 = np.asarray(avg.getAerialImage(final_lat, final_lon, 0, 100, FOV, (324,324)))\n",
        "    imginit = np.asarray(avg.getAerialImage(init_lat, init_lon, 0, 300, FOV, (324,324)))\n",
        "    imginit100 = np.asarray(avg.getAerialImage(init_lat, init_lon, 0, 100, FOV, (324,324)))\n",
        "    square_size = avg.squareAtCamera(300,FOV)\n",
        "    square_size100 = avg.squareAtCamera(100,FOV)\n",
        "    init_view_size = 324*square_size100/square_size\n",
        "    pixel_per_meter = 324/square_size\n",
        "    positions_pixel = positions*pixel_per_meter\n",
        "    positions_pixel[:,0] += 324/2\n",
        "    positions_pixel[:,1] = 324/2 - positions_pixel[:,1]\n",
        "    fig, axs = plt.subplots(1,4, figsize=(15,10))\n",
        "    fig.suptitle(f'{experiment_name}\\nStart:{(init_lat, init_lon)}\\nEnd:{(final_lat, final_lon)}', fontsize=16, y=0.8)\n",
        "    axs[0].imshow(img)\n",
        "    axs[0].set_title(f'Altitude {diffPos[2]:.1f}m')\n",
        "    axs[0].axis('off')\n",
        "    axs[1].imshow(img100)\n",
        "    axs[1].set_title(f'Final position (alt. 100.0m)')\n",
        "    axs[1].axis('off')\n",
        "    axs[2].imshow(imginit)\n",
        "    axs[2].plot([324/2],[324/2],marker='.',markersize=20,color='red')\n",
        "    axs[2].plot(positions_pixel[:,0],positions_pixel[:,1],marker='.',markersize=3,color='red')\n",
        "    axs[2].plot(positions_pixel[-1,0],positions_pixel[-1,1],marker='*',markersize=20,color='blue')\n",
        "    rect = patches.Rectangle((324/2-init_view_size/2, 324/2-init_view_size/2),\n",
        "                             init_view_size, init_view_size,\n",
        "                             linewidth=2.5, linestyle='--', edgecolor='y', facecolor='none')\n",
        "    axs[2].add_patch(rect)\n",
        "    axs[2].set_title(f'Trajectory (alt. 300.0m, square size {square_size:.2f}m)')\n",
        "    axs[2].axis('off')\n",
        "    axs[3].imshow(imginit100)\n",
        "    axs[3].plot([324/2],[324/2],marker='.',markersize=20,color='red')\n",
        "    axs[3].set_title(f'Initial view (alt. 100.0m)')\n",
        "    axs[3].axis('off')\n",
        "    plt.tight_layout()\n",
        "    plt.show()\n",
        "    if success:\n",
        "        keep_it = input(\"Is it any good? (y/n): \")\n",
        "        if \"y\" in keep_it:\n",
        "            results_peace[experiment_name] = [experiment_dict,\n",
        "                                                 (init_lat, init_lon),\n",
        "                                                 (final_lat, final_lon)]"
      ]
    },
    {
      "cell_type": "code",
      "execution_count": null,
      "id": "fc3eb8d9",
      "metadata": {
        "id": "fc3eb8d9"
      },
      "outputs": [],
      "source": [
        "with open(\"results_peace.json\", \"w\") as file:\n",
        "    json.dump(results_peace, file)"
      ]
    },
    {
      "cell_type": "code",
      "execution_count": null,
      "id": "ffdc202c",
      "metadata": {
        "id": "ffdc202c"
      },
      "outputs": [],
      "source": [
        "len(results_peace)"
      ]
    },
    {
      "cell_type": "markdown",
      "id": "f99d25ac",
      "metadata": {
        "id": "f99d25ac"
      },
      "source": [
        "## Inspecting the results from our system (original)"
      ]
    },
    {
      "cell_type": "code",
      "execution_count": null,
      "id": "c7f5a60d",
      "metadata": {
        "id": "c7f5a60d"
      },
      "outputs": [],
      "source": [
        "# (sub)folder where the experiments were saved\n",
        "main_folder = \"Original\"\n",
        "\n",
        "experiment_folders = sorted(glob(main_folder + '/*/'))\n",
        "results_original = {}\n",
        "for folder in experiment_folders:\n",
        "    experiment_name = folder.split('/')[1]\n",
        "    main_filename = folder + experiment_name\n",
        "    with open(main_filename + \".json\", \"r\") as file:\n",
        "        experiment_dict = json.load(file)\n",
        "    with open(main_filename + \".txt\", \"r\") as file:\n",
        "        init_lat, init_lon = [float(v.split('=')[1]) for v in file.readline().split(',')]\n",
        "    elapsed_times = list(experiment_dict.keys())\n",
        "\n",
        "    positions = []\n",
        "    for ti in elapsed_times[1:]:\n",
        "        positions.append(experiment_dict[ti]['position'][:2])\n",
        "        if experiment_dict[ti]['position'][2] <= landed_altitude:\n",
        "            break\n",
        "    positions = np.asarray(positions)\n",
        "    diffPos = experiment_dict[ti]['position']\n",
        "    bearing = math.degrees(math.atan2(-diffPos[1],diffPos[0]))+90\n",
        "    distance = np.linalg.norm(diffPos[:2]) # relative distance\n",
        "    final_lat, final_lon = avg.getPointAtDistance(init_lat, init_lon, distance, bearing)\n",
        "    img = np.asarray(avg.getAerialImage(final_lat, final_lon, 0, diffPos[2], FOV, (324,324)))\n",
        "    img100 = np.asarray(avg.getAerialImage(final_lat, final_lon, 0, 100, FOV, (324,324)))\n",
        "    imginit = np.asarray(avg.getAerialImage(init_lat, init_lon, 0, 300, FOV, (324,324)))\n",
        "    imginit100 = np.asarray(avg.getAerialImage(init_lat, init_lon, 0, 100, FOV, (324,324)))\n",
        "    square_size = avg.squareAtCamera(300,FOV)\n",
        "    square_size100 = avg.squareAtCamera(100,FOV)\n",
        "    init_view_size = 324*square_size100/square_size\n",
        "    pixel_per_meter = 324/square_size\n",
        "    positions_pixel = positions*pixel_per_meter\n",
        "    positions_pixel[:,0] += 324/2\n",
        "    positions_pixel[:,1] = 324/2 - positions_pixel[:,1]\n",
        "    fig, axs = plt.subplots(1,4, figsize=(15,10))\n",
        "    fig.suptitle(f'{experiment_name}\\nStart:{(init_lat, init_lon)}\\nEnd:{(final_lat, final_lon)}', fontsize=16, y=0.8)\n",
        "    axs[0].imshow(img)\n",
        "    axs[0].set_title(f'Altitude {diffPos[2]:.1f}m')\n",
        "    axs[0].axis('off')\n",
        "    axs[1].imshow(img100)\n",
        "    axs[1].set_title(f'Final position (alt. 100.0m)')\n",
        "    axs[1].axis('off')\n",
        "    axs[2].imshow(imginit)\n",
        "    axs[2].plot([324/2],[324/2],marker='.',markersize=20,color='red')\n",
        "    axs[2].plot(positions_pixel[:,0],positions_pixel[:,1],marker='.',markersize=3,color='red')\n",
        "    axs[2].plot(positions_pixel[-1,0],positions_pixel[-1,1],marker='*',markersize=20,color='blue')\n",
        "    rect = patches.Rectangle((324/2-init_view_size/2, 324/2-init_view_size/2),\n",
        "                             init_view_size, init_view_size,\n",
        "                             linewidth=2.5, linestyle='--', edgecolor='y', facecolor='none')\n",
        "    axs[2].add_patch(rect)\n",
        "    axs[2].set_title(f'Trajectory (alt. 300.0m, square size {square_size:.2f}m)')\n",
        "    axs[2].axis('off')\n",
        "    axs[3].imshow(imginit100)\n",
        "    axs[3].plot([324/2],[324/2],marker='.',markersize=20,color='red')\n",
        "    axs[3].set_title(f'Initial view (alt. 100.0m)')\n",
        "    axs[3].axis('off')\n",
        "    plt.tight_layout()\n",
        "    plt.show()\n",
        "    keep_it = input(\"Is it any good? (y/n): \")\n",
        "    if \"y\" in keep_it:\n",
        "        results_original[experiment_name] = [experiment_dict,\n",
        "                                             (init_lat, init_lon),\n",
        "                                             (final_lat, final_lon)]"
      ]
    },
    {
      "cell_type": "code",
      "execution_count": null,
      "id": "7eb0d05c",
      "metadata": {
        "id": "7eb0d05c"
      },
      "outputs": [],
      "source": [
        "len(results_original)"
      ]
    },
    {
      "cell_type": "code",
      "execution_count": null,
      "id": "4a391090",
      "metadata": {
        "id": "4a391090"
      },
      "outputs": [],
      "source": [
        "100*len(results_original)/50"
      ]
    },
    {
      "cell_type": "code",
      "execution_count": null,
      "id": "08fb421e",
      "metadata": {
        "id": "08fb421e"
      },
      "outputs": [],
      "source": [
        "with open(\"results_original.json\", \"w\") as file:\n",
        "    json.dump(results_original, file)"
      ]
    },
    {
      "cell_type": "markdown",
      "id": "1af38469",
      "metadata": {
        "id": "1af38469"
      },
      "source": [
        "## Comparing both results"
      ]
    },
    {
      "cell_type": "code",
      "execution_count": null,
      "id": "ffd53fc2",
      "metadata": {
        "id": "ffd53fc2"
      },
      "outputs": [],
      "source": [
        "improvement_perc = 100*len(results_peace)/len(results_original)\n",
        "print(f\"Improvement from the use of PEACE (total success): {improvement_perc:.2f}%\")"
      ]
    },
    {
      "cell_type": "code",
      "execution_count": null,
      "id": "fc1fa1ff",
      "metadata": {
        "id": "fc1fa1ff"
      },
      "outputs": [],
      "source": [
        "possible_states = {'AIMING',\n",
        " 'CLIMBING',\n",
        " 'LANDING',\n",
        " 'RESTARTING',\n",
        " 'SEARCHING',\n",
        " 'SENSOR_ERROR',\n",
        " 'WAITING'}"
      ]
    },
    {
      "cell_type": "code",
      "execution_count": null,
      "id": "62452e77",
      "metadata": {
        "id": "62452e77"
      },
      "outputs": [],
      "source": [
        "# total time until reaching landing altitude\n",
        "# total travelled distance until reaching landing altitude\n",
        "# horizontal distance from initial position\n",
        "\n",
        "total_time_default = []\n",
        "travelled_dist_default = []\n",
        "straight_dist_default = []\n",
        "states_default = {s:0 for s in possible_states}\n",
        "for rdict, _, _ in results_default.values():\n",
        "    elapsed_times = list(rdict.keys())\n",
        "    prev_state = None\n",
        "    prev_time = 0\n",
        "    for i,ti in enumerate(elapsed_times[1:]):\n",
        "        if prev_state is None:\n",
        "            prev_state = rdict[ti]['state']\n",
        "            prev_time = int(ti)\n",
        "        if prev_state != rdict[ti]['state']:\n",
        "            states_default[prev_state] = states_default[prev_state] + (int(ti)-prev_time)/1000\n",
        "            prev_time = int(ti)\n",
        "        prev_state = rdict[ti]['state']\n",
        "\n",
        "        if rdict[ti]['position'][2] <= landed_altitude:\n",
        "            total_time_default.append(int(ti)/1000) # total time in seconds\n",
        "            positions = []\n",
        "            for tmp_ti in elapsed_times[1:][:i+1]:\n",
        "                positions.append(rdict[tmp_ti]['position'])\n",
        "            positions = np.asarray(positions)\n",
        "            total_dist_line_int = np.sqrt(((positions[1:]-positions[:-1])**2).sum(axis=1)).sum()\n",
        "            travelled_dist_default.append(total_dist_line_int) # total travelled distance\n",
        "\n",
        "            straight_dist_default.append(np.sqrt(((positions[-1][:2]-positions[0][:2])**2).sum()))\n",
        "            break\n",
        "\n",
        "total_time_default = np.asarray(total_time_default)\n",
        "travelled_dist_default = np.asarray(travelled_dist_default)\n",
        "straight_dist_default = np.asarray(straight_dist_default)"
      ]
    },
    {
      "cell_type": "code",
      "execution_count": null,
      "id": "66be5679",
      "metadata": {
        "id": "66be5679"
      },
      "outputs": [],
      "source": [
        "states_default"
      ]
    },
    {
      "cell_type": "code",
      "execution_count": null,
      "id": "85360ff8",
      "metadata": {
        "id": "85360ff8"
      },
      "outputs": [],
      "source": [
        "total_time_default.mean(), travelled_dist_default.mean(), straight_dist_default.mean()"
      ]
    },
    {
      "cell_type": "code",
      "execution_count": null,
      "id": "17f41e09",
      "metadata": {
        "id": "17f41e09"
      },
      "outputs": [],
      "source": [
        "total_time_default.sum()"
      ]
    },
    {
      "cell_type": "code",
      "execution_count": null,
      "id": "f5caebec",
      "metadata": {
        "id": "f5caebec"
      },
      "outputs": [],
      "source": [
        "plt.figure(figsize=(10,10))\n",
        "plt.plot(total_time_default, '.-')\n",
        "plt.title(\"CLIP's default prompt engineering\")\n",
        "plt.ylabel(\"Total Time\")\n",
        "plt.xlabel(\"Experiment Number\")\n",
        "plt.xticks(ticks=range(len(total_time_default)), labels=[k[-3:] for k in results_default.keys()], rotation=90);"
      ]
    },
    {
      "cell_type": "markdown",
      "id": "8f7734f4",
      "metadata": {
        "id": "8f7734f4"
      },
      "source": [
        "### Calculating metrics for the PEACE system"
      ]
    },
    {
      "cell_type": "code",
      "execution_count": null,
      "id": "6d3361cc",
      "metadata": {
        "id": "6d3361cc"
      },
      "outputs": [],
      "source": [
        "# total time until reaching landing altitude\n",
        "# total travelled distance until reaching landing altitude\n",
        "# horizontal distance from initial position\n",
        "\n",
        "total_time_peace = []\n",
        "travelled_dist_peace = []\n",
        "straight_dist_peace = []\n",
        "states_peace = {s:0 for s in possible_states}\n",
        "for rdict, _, _ in results_peace.values():\n",
        "    elapsed_times = list(rdict.keys())\n",
        "    prev_state = None\n",
        "    prev_time = 0\n",
        "    for i,ti in enumerate(elapsed_times[1:]):\n",
        "        if prev_state is None:\n",
        "            prev_state = rdict[ti]['state']\n",
        "            prev_time = int(ti)\n",
        "        if prev_state != rdict[ti]['state']:\n",
        "            states_peace[prev_state] = states_peace[prev_state] + (int(ti)-prev_time)/1000\n",
        "            prev_time = int(ti)\n",
        "        prev_state = rdict[ti]['state']\n",
        "\n",
        "        if rdict[ti]['position'][2] <= landed_altitude:\n",
        "            total_time_peace.append(int(ti)/1000) # total time in seconds\n",
        "            positions = []\n",
        "            for tmp_ti in elapsed_times[1:][:i+1]:\n",
        "                positions.append(rdict[tmp_ti]['position'])\n",
        "            positions = np.asarray(positions)\n",
        "            total_dist_line_int = np.sqrt(((positions[1:]-positions[:-1])**2).sum(axis=1)).sum()\n",
        "            travelled_dist_peace.append(total_dist_line_int) # total travelled distance\n",
        "\n",
        "            straight_dist_peace.append(np.sqrt(((positions[-1][:2]-positions[0][:2])**2).sum()))\n",
        "            break\n",
        "\n",
        "total_time_peace = np.asarray(total_time_peace)\n",
        "travelled_dist_peace = np.asarray(travelled_dist_peace)\n",
        "straight_dist_peace = np.asarray(straight_dist_peace)"
      ]
    },
    {
      "cell_type": "code",
      "execution_count": null,
      "id": "5df8d207",
      "metadata": {
        "id": "5df8d207"
      },
      "outputs": [],
      "source": [
        "states_peace"
      ]
    },
    {
      "cell_type": "code",
      "execution_count": null,
      "id": "462b8af1",
      "metadata": {
        "id": "462b8af1"
      },
      "outputs": [],
      "source": [
        "total_time_peace.mean(), travelled_dist_peace.mean(), straight_dist_peace.mean()"
      ]
    },
    {
      "cell_type": "code",
      "execution_count": null,
      "id": "905a5812",
      "metadata": {
        "id": "905a5812"
      },
      "outputs": [],
      "source": [
        "total_time_peace.sum()"
      ]
    },
    {
      "cell_type": "code",
      "execution_count": null,
      "id": "c2f5b2d3",
      "metadata": {
        "id": "c2f5b2d3"
      },
      "outputs": [],
      "source": [
        "plt.figure(figsize=(10,10))\n",
        "plt.plot(total_time_peace, '.-')\n",
        "plt.title(\"PEACE\")\n",
        "plt.ylabel(\"Total Time\")\n",
        "plt.xlabel(\"Experiment Number\")\n",
        "plt.xticks(ticks=range(len(total_time_peace)), labels=[k[-3:] for k in results_peace.keys()], rotation=90);"
      ]
    },
    {
      "cell_type": "markdown",
      "id": "05d3695b",
      "metadata": {
        "id": "05d3695b"
      },
      "source": [
        "### Calculating metrics for the original system"
      ]
    },
    {
      "cell_type": "code",
      "execution_count": null,
      "id": "5800ea4c",
      "metadata": {
        "id": "5800ea4c"
      },
      "outputs": [],
      "source": [
        "# total time until reaching landing altitude\n",
        "# total travelled distance until reaching landing altitude\n",
        "# horizontal distance from initial position\n",
        "\n",
        "total_time_original = []\n",
        "travelled_dist_original = []\n",
        "straight_dist_original = []\n",
        "states_original = {s:0 for s in possible_states}\n",
        "for rdict, _, _ in results_original.values():\n",
        "    elapsed_times = list(rdict.keys())\n",
        "    prev_state = None\n",
        "    prev_time = 0\n",
        "    for i,ti in enumerate(elapsed_times[1:]):\n",
        "        if prev_state is None:\n",
        "            prev_state = rdict[ti]['state']\n",
        "            prev_time = int(ti)\n",
        "        if prev_state != rdict[ti]['state']:\n",
        "            states_original[prev_state] = states_original[prev_state] + (int(ti)-prev_time)/1000\n",
        "            prev_time = int(ti)\n",
        "        prev_state = rdict[ti]['state']\n",
        "        if rdict[ti]['position'][2] <= landed_altitude:\n",
        "            total_time_original.append(int(ti)/1000) # total time in seconds\n",
        "            positions = []\n",
        "            for tmp_ti in elapsed_times[1:][:i+1]:\n",
        "                positions.append(rdict[tmp_ti]['position'])\n",
        "            positions = np.asarray(positions)\n",
        "            total_dist_line_int = np.sqrt(((positions[1:]-positions[:-1])**2).sum(axis=1)).sum()\n",
        "            travelled_dist_original.append(total_dist_line_int) # total travelled distance\n",
        "\n",
        "            straight_dist_original.append(np.sqrt(((positions[-1][:2]-positions[0][:2])**2).sum()))\n",
        "            break\n",
        "\n",
        "total_time_original = np.asarray(total_time_original)\n",
        "travelled_dist_original = np.asarray(travelled_dist_original)\n",
        "straight_dist_original = np.asarray(straight_dist_original)"
      ]
    },
    {
      "cell_type": "code",
      "execution_count": null,
      "id": "caf8b8d4",
      "metadata": {
        "id": "caf8b8d4"
      },
      "outputs": [],
      "source": [
        "states_original"
      ]
    },
    {
      "cell_type": "code",
      "execution_count": null,
      "id": "3aed3eae",
      "metadata": {
        "id": "3aed3eae"
      },
      "outputs": [],
      "source": [
        "total_time_original.mean(), travelled_dist_original.mean(), straight_dist_original.mean()"
      ]
    },
    {
      "cell_type": "code",
      "execution_count": null,
      "id": "87b9ba34",
      "metadata": {
        "id": "87b9ba34"
      },
      "outputs": [],
      "source": [
        "total_time_original.sum()"
      ]
    },
    {
      "cell_type": "code",
      "execution_count": null,
      "id": "f7784b63",
      "metadata": {
        "id": "f7784b63"
      },
      "outputs": [],
      "source": [
        "plt.figure(figsize=(10,10))\n",
        "plt.plot(total_time_original, '.-')\n",
        "plt.title(\"DOVESEI\")\n",
        "plt.ylabel(\"Total Time\")\n",
        "plt.xlabel(\"Experiment Number\")\n",
        "plt.xticks(ticks=range(len(total_time_original)), labels=[k[-3:] for k in results_original.keys()], rotation=90);"
      ]
    },
    {
      "cell_type": "code",
      "execution_count": null,
      "id": "fc961f23",
      "metadata": {
        "id": "fc961f23"
      },
      "outputs": [],
      "source": [
        "plt.xticks?"
      ]
    },
    {
      "cell_type": "markdown",
      "id": "7202b501",
      "metadata": {
        "id": "7202b501"
      },
      "source": [
        "## Special: Figures\n",
        "\n"
      ]
    },
    {
      "cell_type": "code",
      "execution_count": null,
      "id": "917bf2da",
      "metadata": {
        "id": "917bf2da"
      },
      "outputs": [],
      "source": [
        "with open(\"results_default.json\", \"r\") as file:\n",
        "    results_default = json.load(file)\n",
        "\n",
        "with open(\"results_peace.json\", \"r\") as file:\n",
        "    results_peace = json.load(file)\n",
        "\n",
        "with open(\"results_original.json\", \"r\") as file:\n",
        "    results_original = json.load(file)"
      ]
    },
    {
      "cell_type": "code",
      "execution_count": null,
      "id": "a82fb7cc",
      "metadata": {
        "id": "a82fb7cc"
      },
      "outputs": [],
      "source": [
        "experiment_name = 'experiment_007'\n",
        "\n",
        "experiment_dict = results_peace[experiment_name][0]\n",
        "elapsed_times = list(experiment_dict.keys())\n",
        "positions_peace = []\n",
        "for ti in elapsed_times[1:]:\n",
        "    positions_peace.append(experiment_dict[ti]['position'][:2])\n",
        "positions_peace = np.asarray(positions_peace)\n",
        "\n",
        "\n",
        "experiment_dict = results_default[experiment_name][0]\n",
        "elapsed_times = list(experiment_dict.keys())\n",
        "positions_default = []\n",
        "for ti in elapsed_times[1:]:\n",
        "    positions_default.append(experiment_dict[ti]['position'][:2])\n",
        "positions_default = np.asarray(positions_default)\n",
        "\n",
        "experiment_dict = results_original[experiment_name][0]\n",
        "elapsed_times = list(experiment_dict.keys())\n",
        "positions_focus = []\n",
        "for ti in elapsed_times[1:]:\n",
        "    positions_focus.append(experiment_dict[ti]['position'][:2])\n",
        "positions_focus = np.asarray(positions_focus)\n",
        "\n",
        "plt.plot(positions_peace[:,0], positions_peace[:,1],\n",
        "         linestyle='--', linewidth=4, color='blue', label='DOVESEI-PEACE')\n",
        "plt.plot([positions_peace[-1,0]], [positions_peace[-1,1]],\n",
        "         marker='*', markersize=20, color='blue')\n",
        "\n",
        "plt.plot(positions_default[:,0], positions_default[:,1],\n",
        "         linestyle='-.', linewidth=2, color='green', label='DOVESEI-DEF')\n",
        "plt.plot([positions_default[-1,0]], [positions_default[-1,1]],\n",
        "         marker='*', markersize=20, color='green')\n",
        "\n",
        "plt.plot(positions_focus[:,0], positions_focus[:,1],\n",
        "         linestyle='-.', linewidth=2, color='red', label='DOVESEI')\n",
        "plt.plot([positions_focus[-1,0]], [positions_focus[-1,1]],\n",
        "         marker='*', markersize=20, color='red')\n",
        "\n",
        "plt.plot([positions_focus[1,0]], [positions_focus[1,1]],\n",
        "         marker='.', markersize=20, color='black', label='Start')\n",
        "plt.xlabel('X [m]')\n",
        "plt.ylabel('Y [m]')\n",
        "plt.title(f\"Experiment {experiment_name[-3:]}\")\n",
        "plt.legend()\n",
        "plt.show()"
      ]
    },
    {
      "cell_type": "markdown",
      "id": "70ad5c4b",
      "metadata": {
        "id": "70ad5c4b"
      },
      "source": [
        "### Videos"
      ]
    },
    {
      "cell_type": "code",
      "execution_count": null,
      "id": "de18f0bd",
      "metadata": {
        "id": "de18f0bd"
      },
      "outputs": [],
      "source": [
        "# (sub)folder where the experiments were saved\n",
        "main_folder = \"PEACE\"\n",
        "\n",
        "experiment_folders = sorted(glob(main_folder + '/*/'))\n",
        "for folder in experiment_folders:\n",
        "    if experiment_name in folder:\n",
        "        heatmap_codes = np.asarray([int(hm.split('/')[-1].split('_')[-1].split('.')[0]) for hm in sorted(glob(folder + '/heatmap*'))])\n",
        "        main_filename = folder + experiment_name\n",
        "        with open(main_filename + \".json\", \"r\") as file:\n",
        "            experiment_dict = json.load(file)\n",
        "        with open(main_filename + \".txt\", \"r\") as file:\n",
        "            init_lat, init_lon = [float(v.split('=')[1]) for v in file.readline().split(',')]\n",
        "        elapsed_times = list(experiment_dict.keys())\n",
        "\n",
        "        positions = []\n",
        "        success = False\n",
        "        for ti in elapsed_times[1:]:\n",
        "            closest_ti = heatmap_codes[np.argsort(abs(heatmap_codes-int(ti)))[0]]\n",
        "            heatmap = np.asarray(Image.open(f\"{folder}heatmap_{closest_ti:07}.png\").convert('RGB').resize((324,324)))\n",
        "            positions.append(experiment_dict[ti]['position'][:2])\n",
        "            diffPos = experiment_dict[ti]['position']\n",
        "            bearing = math.degrees(math.atan2(-diffPos[1],diffPos[0]))+90\n",
        "            distance = np.linalg.norm(diffPos[:2]) # relative distance\n",
        "            final_lat, final_lon = avg.getPointAtDistance(init_lat, init_lon, distance, bearing)\n",
        "            img = np.asarray(avg.getAerialImage(final_lat, final_lon, 0, diffPos[2], FOV, (324,324)))\n",
        "            square_size = avg.squareAtCamera(diffPos[2],FOV)\n",
        "            pixel_per_meter = 324/square_size\n",
        "            fig, axs = plt.subplots(1,1, figsize=(15,10))\n",
        "            axs.imshow(img)\n",
        "            axs.imshow(heatmap, alpha=0.3)\n",
        "            axs.scatter([324/2],[324/2],500,marker='+',color='r',linewidths=3)\n",
        "            plt.text(10, 20, f\"State: {experiment_dict[ti]['state']}\", dict(size=25, color='white'))\n",
        "            plt.text(10, 40, f\"Approx. Altitude: {diffPos[2]:.0f}m\", dict(size=25, color='white'))\n",
        "            axs.axis('off')\n",
        "            plt.tight_layout()\n",
        "            plt.savefig(f\"video/{experiment_name}_{int(ti):07}.png\")\n",
        "            plt.close() # will close the plot\n",
        "            if experiment_dict[ti]['position'][2] <= landed_altitude:\n",
        "                success = True\n",
        "                break\n"
      ]
    },
    {
      "cell_type": "code",
      "execution_count": null,
      "id": "5304d4f8",
      "metadata": {
        "id": "5304d4f8"
      },
      "outputs": [],
      "source": [
        "experiment_dict = results_peace[experiment_name][0]\n",
        "elapsed_times = list(experiment_dict.keys())\n",
        "positions_peace = []\n",
        "for ti in elapsed_times[1:]:\n",
        "    positions_peace.append(experiment_dict[ti]['position'][:2])\n",
        "positions_peace = np.asarray(positions_peace)\n",
        "\n",
        "\n",
        "plt.plot(positions_peace[:,0], positions_peace[:,1],\n",
        "         linestyle='--', linewidth=4, color='blue', label='DOVESEI-PEACE')\n",
        "plt.plot([positions_peace[-1,0]], [positions_peace[-1,1]],\n",
        "         marker='*', markersize=20, color='blue')\n",
        "\n",
        "\n",
        "plt.plot([positions_peace[1,0]], [positions_peace[1,1]],\n",
        "         marker='.', markersize=20, color='black', label='Start')\n",
        "plt.xlabel('X [m]')\n",
        "plt.ylabel('Y [m]')\n",
        "plt.title(f\"Experiment {experiment_name[-3:]}\")\n",
        "plt.legend()\n",
        "\n",
        "# plt.savefig(\"test.png\")\n",
        "# plt.close() # will close the plot"
      ]
    },
    {
      "cell_type": "code",
      "execution_count": null,
      "id": "89c44488",
      "metadata": {
        "id": "89c44488"
      },
      "outputs": [],
      "source": [
        "fig, ax = plt.subplots()\n",
        "\n",
        "# Save the chart so we can loop through the bars below.\n",
        "bars = ax.bar(\n",
        "    x=[0,1],\n",
        "    height=[len(results_original),len(results_peace)],\n",
        "    tick_label=['DOVESEI', 'PEACE']\n",
        ")\n",
        "\n",
        "# Axis formatting.\n",
        "ax.spines['top'].set_visible(False)\n",
        "ax.spines['right'].set_visible(False)\n",
        "ax.spines['left'].set_visible(False)\n",
        "ax.spines['bottom'].set_color('#DDDDDD')\n",
        "ax.tick_params(bottom=False, left=False)\n",
        "ax.set_axisbelow(True)\n",
        "ax.yaxis.grid(True, color='#EEEEEE')\n",
        "ax.xaxis.grid(False)\n",
        "\n",
        "secax = ax.secondary_yaxis('right')\n",
        "secax.set_ylabel('Average Path Length [m]')\n",
        "secax.spines['top'].set_visible(False)\n",
        "secax.spines['right'].set_visible(False)\n",
        "secax.spines['left'].set_visible(False)\n",
        "secax.spines['top'].set_visible(False)\n",
        "secax.spines['bottom'].set_color('#DDDDDD')\n",
        "\n",
        "# Add text annotations to the top of the bars.\n",
        "bar_color = bars[0].get_facecolor()\n",
        "for bar in bars:\n",
        "  ax.text(\n",
        "      bar.get_x() + bar.get_width() / 2,\n",
        "      bar.get_height() + 0.3,\n",
        "      round(bar.get_height(), 1),\n",
        "      horizontalalignment='center',\n",
        "      color=bar_color,\n",
        "      weight='bold'\n",
        "  )\n",
        "\n",
        "# Add labels and a title. Note the use of `labelpad` and `pad` to add some\n",
        "# extra space between the text and the tick labels.\n",
        "ax.set_ylabel('Successfully reached a safe landing spot', labelpad=15, color='#333333')\n",
        "ax.set_ylim(0,50)\n",
        "\n",
        "fig.tight_layout()"
      ]
    },
    {
      "cell_type": "code",
      "execution_count": null,
      "id": "aa1b0b03",
      "metadata": {
        "id": "aa1b0b03"
      },
      "outputs": [],
      "source": [
        "results_peace['experiment_006'][0][list(experiment_dict.keys())[1]]"
      ]
    }
  ],
  "metadata": {
    "kernelspec": {
      "display_name": "Python 3 (ipykernel)",
      "language": "python",
      "name": "python3"
    },
    "language_info": {
      "codemirror_mode": {
        "name": "ipython",
        "version": 3
      },
      "file_extension": ".py",
      "mimetype": "text/x-python",
      "name": "python",
      "nbconvert_exporter": "python",
      "pygments_lexer": "ipython3",
      "version": "3.10.9"
    },
    "colab": {
      "provenance": []
    }
  },
  "nbformat": 4,
  "nbformat_minor": 5
}